{
 "cells": [
  {
   "cell_type": "markdown",
   "metadata": {},
   "source": [
    "numeber of fossils: 2947\n",
    "\n",
    "number of fossils marked in genus level: 607\n",
    "\n",
    "species level: 2106\n",
    "\n",
    "number of unique species: 212"
   ]
  },
  {
   "cell_type": "markdown",
   "metadata": {
    "collapsed": true
   },
   "source": [
    "change sampling frequency: -s\n",
    "\n",
    "-n flag: number of mcmc generations"
   ]
  },
  {
   "cell_type": "markdown",
   "metadata": {},
   "source": [
    "Marginal_rates.log file: tab separated, displays marginal rates of extinction, speciation, and net diversification. \n",
    "\n",
    "mcmc.log file: tab separated, table of posterior and prior liklihoods of preservation, birth-death rate, preservation rate, shape parameter of heterogeneity, parameters of covar model, number of sampled rate shifts, TI scaling factor, time of origin, speciation/extinction rates between shifts, times of rate shifts, total branch length, times of speciation and extinction in all taxa\n",
    "\n",
    "sum.txt file: list of settings used in analysis"
   ]
  },
  {
   "cell_type": "code",
   "execution_count": null,
   "metadata": {
    "collapsed": true
   },
   "outputs": [],
   "source": []
  }
 ],
 "metadata": {
  "anaconda-cloud": {},
  "kernelspec": {
   "display_name": "Python [default]",
   "language": "python",
   "name": "python3"
  },
  "language_info": {
   "codemirror_mode": {
    "name": "ipython",
    "version": 3
   },
   "file_extension": ".py",
   "mimetype": "text/x-python",
   "name": "python",
   "nbconvert_exporter": "python",
   "pygments_lexer": "ipython3",
   "version": "3.5.2"
  }
 },
 "nbformat": 4,
 "nbformat_minor": 2
}
