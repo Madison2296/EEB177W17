{
 "cells": [
  {
   "cell_type": "code",
   "execution_count": 27,
   "metadata": {
    "collapsed": false
   },
   "outputs": [],
   "source": [
    "reformatted_dna = open('/home/eeb177-student/Desktop/eeb-177/lab-work/exercise-5/python_ex/reformatted_dna.txt', 'w')\n",
    "hw_dna = open('/home/eeb177-student/Desktop/eeb-177/csb/unix/data/Marra2014_data.fasta')\n",
    "read_dna = hw_dna.read()\n",
    "removelines_dna = read_dna.replace(\"\\n\", \"\").replace(\"sh\", \"  \")\n",
    "final_dna = removelines_dna.replace(\">\", \"\\n\").replace(\"  \", \",\")\n",
    "reformatted_dna.write(final_dna)\n",
    "reformatted_dna.close()"
   ]
  },
  {
   "cell_type": "code",
   "execution_count": 23,
   "metadata": {
    "collapsed": false
   },
   "outputs": [],
   "source": [
    "reformatted_dna = open('/home/eeb177-student/Desktop/eeb-177/lab-work/exercise-5/python_ex/reformatted_dna.txt')\n",
    "reformatted_dna.readline\n",
    "import collections\n",
    "contigs = []\n",
    "dna_strings = []\n",
    "AATGs = []\n",
    "upper_dna_strings = []\n",
    "AATG_dict = {}\n",
    "for line in reformatted_dna:\n",
    "    items = line.split(',')\n",
    "    contig = items[0]\n",
    "    contigs.append(contig)\n",
    "    dna = items[-1]\n",
    "    dna_strings.append(dna)\n",
    "for items in dna_strings:\n",
    "        upper_dna = items.upper()\n",
    "        upper_dna_strings.append(upper_dna)\n",
    "for items in upper_dna_strings:\n",
    "        AATG = items.count('AATG')\n",
    "        AATGs.append(AATG)\n",
    "AATG_dict = dict(zip(contigs, AATGs))\n",
    "ordered_AATG_dict = collections.OrderedDict(sorted(AATG_dict.items()))"
   ]
  },
  {
   "cell_type": "code",
   "execution_count": 24,
   "metadata": {
    "collapsed": true
   },
   "outputs": [],
   "source": [
    "import csv\n",
    "gauravs_output = open('/home/eeb177-student/Desktop/eeb-177/lab-work/exercise-5/python_ex/gauravs_output.csv', 'w')\n",
    "for key, value in ordered_AATG_dict.items():\n",
    "    gauravs_output.write(key + \",\" +str(value) + \"\\n\")\n",
    "gauravs_output.close()"
   ]
  },
  {
   "cell_type": "code",
   "execution_count": null,
   "metadata": {
    "collapsed": true
   },
   "outputs": [],
   "source": []
  }
 ],
 "metadata": {
  "anaconda-cloud": {},
  "kernelspec": {
   "display_name": "Python [default]",
   "language": "python",
   "name": "python3"
  },
  "language_info": {
   "codemirror_mode": {
    "name": "ipython",
    "version": 3
   },
   "file_extension": ".py",
   "mimetype": "text/x-python",
   "name": "python",
   "nbconvert_exporter": "python",
   "pygments_lexer": "ipython3",
   "version": "3.5.2"
  }
 },
 "nbformat": 4,
 "nbformat_minor": 2
}
