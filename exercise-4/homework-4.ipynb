{
 "cells": [
  {
   "cell_type": "code",
   "execution_count": 3,
   "metadata": {
    "collapsed": false
   },
   "outputs": [
    {
     "name": "stdout",
     "output_type": "stream",
     "text": [
      "100\n",
      "101\n",
      "102\n",
      "103\n",
      "104\n",
      "105\n",
      "106\n",
      "107\n",
      "108\n",
      "109\n",
      "110\n"
     ]
    }
   ],
   "source": [
    "#for loop from 100 to 110\n",
    "for current_number in(range(100, 111)):\n",
    "    print(str(current_number))"
   ]
  },
  {
   "cell_type": "code",
   "execution_count": 4,
   "metadata": {
    "collapsed": false
   },
   "outputs": [
    {
     "name": "stdout",
     "output_type": "stream",
     "text": [
      "100\n",
      "101\n",
      "102\n",
      "103\n",
      "104\n",
      "105\n",
      "106\n",
      "107\n",
      "108\n",
      "109\n",
      "110\n"
     ]
    }
   ],
   "source": [
    "#while loop from 100 to 110\n",
    "current_number = 100\n",
    "while current_number < 111:\n",
    "    print(str(current_number))\n",
    "    current_number = current_number + 1"
   ]
  },
  {
   "cell_type": "code",
   "execution_count": 5,
   "metadata": {
    "collapsed": false
   },
   "outputs": [
    {
     "name": "stdout",
     "output_type": "stream",
     "text": [
      "100\n",
      "121\n",
      "144\n",
      "169\n",
      "196\n",
      "225\n"
     ]
    }
   ],
   "source": [
    "#squares of numbers from 10-15\n",
    "for current_number in range(10, 16):\n",
    "    square = current_number**2\n",
    "    print(str(square))"
   ]
  },
  {
   "cell_type": "code",
   "execution_count": 7,
   "metadata": {
    "collapsed": false
   },
   "outputs": [
    {
     "name": "stdout",
     "output_type": "stream",
     "text": [
      "Scooby is a character in that most glorious of cartoons, Scooby Doo\n",
      "Shaggy is a character in that most glorious of cartoons, Scooby Doo\n",
      "Velma is a character in that most glorious of cartoons, Scooby Doo\n",
      "Daphne is a character in that most glorious of cartoons, Scooby Doo\n",
      "Fred is a character in that most glorious of cartoons, Scooby Doo\n"
     ]
    }
   ],
   "source": [
    "#scooby doo list\n",
    "character = ['Scooby','Shaggy','Velma','Daphne','Fred']\n",
    "for person in character:\n",
    "    print(str(person) + \" is a character in that most glorious of cartoons, Scooby Doo\")"
   ]
  },
  {
   "cell_type": "code",
   "execution_count": 27,
   "metadata": {
    "collapsed": true
   },
   "outputs": [],
   "source": [
    "factorial = 1\n",
    "total = 0"
   ]
  },
  {
   "cell_type": "code",
   "execution_count": 44,
   "metadata": {
    "collapsed": false
   },
   "outputs": [],
   "source": [
    "def odd_or_even(inpt):\n",
    "    if inpt == 0:\n",
    "        print(0)\n",
    "    elif inpt % 2 != 0:\n",
    "        factorial = 1\n",
    "        for current_number in range(inpt, 0, -1):\n",
    "            factorial = factorial*current_number\n",
    "        print(factorial)\n",
    "    else:\n",
    "        total = 0\n",
    "        while inpt > 0:\n",
    "            total = total + inpt\n",
    "            inpt = inpt - 1\n",
    "        print(total)"
   ]
  },
  {
   "cell_type": "code",
   "execution_count": 45,
   "metadata": {
    "collapsed": true
   },
   "outputs": [],
   "source": [
    "def fact_or_sum(inpt):\n",
    "    if type(inpt) != int:\n",
    "        return('error')\n",
    "    else:\n",
    "        return(odd_or_even(inpt))"
   ]
  },
  {
   "cell_type": "code",
   "execution_count": 46,
   "metadata": {
    "collapsed": false
   },
   "outputs": [
    {
     "name": "stdout",
     "output_type": "stream",
     "text": [
      "10\n"
     ]
    }
   ],
   "source": [
    "fact_or_sum(4)"
   ]
  },
  {
   "cell_type": "code",
   "execution_count": null,
   "metadata": {
    "collapsed": true
   },
   "outputs": [],
   "source": []
  }
 ],
 "metadata": {
  "anaconda-cloud": {},
  "kernelspec": {
   "display_name": "Python [default]",
   "language": "python",
   "name": "python3"
  },
  "language_info": {
   "codemirror_mode": {
    "name": "ipython",
    "version": 3
   },
   "file_extension": ".py",
   "mimetype": "text/x-python",
   "name": "python",
   "nbconvert_exporter": "python",
   "pygments_lexer": "ipython3",
   "version": "3.5.2"
  }
 },
 "nbformat": 4,
 "nbformat_minor": 2
}
