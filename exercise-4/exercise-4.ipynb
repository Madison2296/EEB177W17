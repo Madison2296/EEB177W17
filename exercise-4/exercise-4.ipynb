{
 "cells": [
  {
   "cell_type": "code",
   "execution_count": 1,
   "metadata": {
    "collapsed": false
   },
   "outputs": [
    {
     "name": "stdout",
     "output_type": "stream",
     "text": [
      "Liftoff in 10 seconds\n",
      "Liftoff in 9 seconds\n",
      "Liftoff in 8 seconds\n",
      "Liftoff in 7 seconds\n",
      "Liftoff in 6 seconds\n",
      "Liftoff in 5 seconds\n",
      "Liftoff in 4 seconds\n",
      "Liftoff in 3 seconds\n",
      "Liftoff in 2 seconds\n",
      "Liftoff in 1 seconds\n"
     ]
    }
   ],
   "source": [
    "#Question 1\n",
    "print('Liftoff in 10 seconds')\n",
    "print('Liftoff in 9 seconds')\n",
    "print('Liftoff in 8 seconds')\n",
    "print('Liftoff in 7 seconds')\n",
    "print('Liftoff in 6 seconds')\n",
    "print('Liftoff in 5 seconds')\n",
    "print('Liftoff in 4 seconds')\n",
    "print('Liftoff in 3 seconds')\n",
    "print('Liftoff in 2 seconds')\n",
    "print('Liftoff in 1 seconds')"
   ]
  },
  {
   "cell_type": "code",
   "execution_count": 3,
   "metadata": {
    "collapsed": false
   },
   "outputs": [
    {
     "name": "stdout",
     "output_type": "stream",
     "text": [
      "204\n"
     ]
    }
   ],
   "source": [
    "#Question 2\n",
    "print(1**2 + 2**2 + 3**2 + 4**2 + 5**2 + 6**2 + 7**2 + 8**2)"
   ]
  },
  {
   "cell_type": "code",
   "execution_count": 6,
   "metadata": {
    "collapsed": false
   },
   "outputs": [
    {
     "name": "stdout",
     "output_type": "stream",
     "text": [
      "2\n",
      "3\n",
      "4\n"
     ]
    }
   ],
   "source": [
    "#Question 3\n",
    "s0 = 'atgtaca'\n",
    "s1 = 'atttaca'\n",
    "s2 = 'attttca'\n",
    "print(s0.count('t'))\n",
    "print(s1.count('t'))\n",
    "print(s2.count('t'))"
   ]
  },
  {
   "cell_type": "code",
   "execution_count": 7,
   "metadata": {
    "collapsed": true
   },
   "outputs": [],
   "source": [
    "#Question 4\n",
    "squares = [1, 4, 9, 16, 25, 36, 49, 64]"
   ]
  },
  {
   "cell_type": "code",
   "execution_count": 11,
   "metadata": {
    "collapsed": false
   },
   "outputs": [
    {
     "name": "stdout",
     "output_type": "stream",
     "text": [
      "Liftoff in 10 seconds\n",
      "Liftoff in 9 seconds\n",
      "Liftoff in 8 seconds\n",
      "Liftoff in 7 seconds\n",
      "Liftoff in 6 seconds\n",
      "Liftoff in 5 seconds\n",
      "Liftoff in 4 seconds\n",
      "Liftoff in 3 seconds\n",
      "Liftoff in 2 seconds\n",
      "Liftoff in 1 seconds\n"
     ]
    }
   ],
   "source": [
    "#Question 1 redo\n",
    "set_to_iterate_over = [10, 9, 8, 7, 6, 5, 4, 3, 2, 1]\n",
    "for current_number in set_to_iterate_over:\n",
    "    print('Liftoff in ' + str(current_number) + \" seconds\")"
   ]
  },
  {
   "cell_type": "code",
   "execution_count": 13,
   "metadata": {
    "collapsed": false
   },
   "outputs": [
    {
     "name": "stdout",
     "output_type": "stream",
     "text": [
      "Liftoff in 10 seconds\n",
      "Liftoff in 9 seconds\n",
      "Liftoff in 8 seconds\n",
      "Liftoff in 7 seconds\n",
      "Liftoff in 6 seconds\n",
      "Liftoff in 5 seconds\n",
      "Liftoff in 4 seconds\n",
      "Liftoff in 3 seconds\n",
      "Liftoff in 2 seconds\n",
      "Liftoff in 1 seconds\n"
     ]
    }
   ],
   "source": [
    "for current_number in list(range(10, 0, -1)):\n",
    "    print('Liftoff in ' + str(current_number) + ' seconds')"
   ]
  },
  {
   "cell_type": "code",
   "execution_count": 16,
   "metadata": {
    "collapsed": false
   },
   "outputs": [
    {
     "name": "stdout",
     "output_type": "stream",
     "text": [
      "current total is: 1\n",
      "current total is: 5\n",
      "current total is: 14\n",
      "current total is: 30\n",
      "current total is: 55\n",
      "current total is: 91\n",
      "current total is: 140\n",
      "current total is: 204\n",
      "204\n"
     ]
    }
   ],
   "source": [
    "#Question 2 redo\n",
    "total = 0\n",
    "for current_number in range(1, 9):\n",
    "    square = current_number**2\n",
    "    total = total + square\n",
    "    print('current total is: ' + str(total))\n",
    "    \n",
    "print(total)"
   ]
  },
  {
   "cell_type": "code",
   "execution_count": 18,
   "metadata": {
    "collapsed": false
   },
   "outputs": [
    {
     "name": "stdout",
     "output_type": "stream",
     "text": [
      "There are 2 ts in the sequence atgtaca\n",
      "There are 3 ts in the sequence atttaca\n",
      "There are 4 ts in the sequence attttca\n"
     ]
    }
   ],
   "source": [
    "#Question 3 redo\n",
    "set_to_iterate_over = ['atgtaca', 'atttaca', 'attttca']\n",
    "for item in set_to_iterate_over:\n",
    "    current_count = item.count('t')\n",
    "    print('There are ' + str(current_count) + ' ts in the sequence ' + item)"
   ]
  },
  {
   "cell_type": "code",
   "execution_count": 19,
   "metadata": {
    "collapsed": false
   },
   "outputs": [
    {
     "name": "stdout",
     "output_type": "stream",
     "text": [
      "[1, 4, 9, 16, 25, 36, 49, 64]\n"
     ]
    }
   ],
   "source": [
    "#Question 4 redo\n",
    "list_of_squares = []\n",
    "for current_number in range(1, 9):\n",
    "    square = current_number**2\n",
    "    list_of_squares.append(square)\n",
    "print(list_of_squares)"
   ]
  },
  {
   "cell_type": "code",
   "execution_count": 20,
   "metadata": {
    "collapsed": false
   },
   "outputs": [
    {
     "name": "stdout",
     "output_type": "stream",
     "text": [
      "Liftoff in 10 seconds\n",
      "Liftoff in 9 seconds\n",
      "Liftoff in 8 seconds\n",
      "Liftoff in 7 seconds\n",
      "Liftoff in 6 seconds\n",
      "Liftoff in 5 seconds\n",
      "Liftoff in 4 seconds\n",
      "Liftoff in 3 seconds\n",
      "Liftoff in 2 seconds\n",
      "Liftoff in 1 seconds\n"
     ]
    }
   ],
   "source": [
    "#Question 1 with while loops\n",
    "current_time = 10\n",
    "while current_time > 0:\n",
    "    print('Liftoff in ' + str(current_time) + ' seconds')\n",
    "    current_time = current_time - 1"
   ]
  },
  {
   "cell_type": "code",
   "execution_count": 23,
   "metadata": {
    "collapsed": false
   },
   "outputs": [
    {
     "name": "stdout",
     "output_type": "stream",
     "text": [
      "[1, 4, 9, 16, 25, 36, 49, 64]\n"
     ]
    }
   ],
   "source": [
    "#Question 4 with loops\n",
    "list_of_squares = []\n",
    "current_number = 1\n",
    "while current_number < 9:\n",
    "    square = current_number**2\n",
    "    list_of_squares.append(square)\n",
    "    current_number = current_number + 1\n",
    "print(list_of_squares)"
   ]
  },
  {
   "cell_type": "code",
   "execution_count": null,
   "metadata": {
    "collapsed": true
   },
   "outputs": [],
   "source": []
  }
 ],
 "metadata": {
  "anaconda-cloud": {},
  "kernelspec": {
   "display_name": "Python [default]",
   "language": "python",
   "name": "python3"
  },
  "language_info": {
   "codemirror_mode": {
    "name": "ipython",
    "version": 3
   },
   "file_extension": ".py",
   "mimetype": "text/x-python",
   "name": "python",
   "nbconvert_exporter": "python",
   "pygments_lexer": "ipython3",
   "version": "3.5.2"
  }
 },
 "nbformat": 4,
 "nbformat_minor": 2
}
