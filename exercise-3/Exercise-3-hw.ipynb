{
 "cells": [
  {
   "cell_type": "code",
   "execution_count": 5,
   "metadata": {
    "collapsed": false
   },
   "outputs": [],
   "source": [
    "a = 3\n",
    "b = 17\n",
    "c = a+b\n",
    "favorite_animal = \"dog\"\n",
    "favorite_dinners = \"spaghetti, steak, salmon\"\n",
    "num_fav_dinners = len(favorite_dinners)"
   ]
  },
  {
   "cell_type": "code",
   "execution_count": 97,
   "metadata": {
    "collapsed": false
   },
   "outputs": [],
   "source": [
    "def check_temp(inpt):\n",
    "    if inpt < 5:\n",
    "        print(\"Brr! It's cold!\")\n",
    "    elif inpt > 25:\n",
    "        print(\"It's pretty warm!\")\n",
    "    elif inpt > 5 and inpt < 25:\n",
    "        print(\"What a pleasant temperature!\")"
   ]
  },
  {
   "cell_type": "code",
   "execution_count": 84,
   "metadata": {
    "collapsed": false
   },
   "outputs": [],
   "source": [
    "def hw3_function(inpt):\n",
    "    if type(inpt) != int:\n",
    "        return(\"nope\")\n",
    "    else:\n",
    "        return(check_temp(inpt))"
   ]
  },
  {
   "cell_type": "code",
   "execution_count": 92,
   "metadata": {
    "collapsed": false
   },
   "outputs": [],
   "source": [
    "import re"
   ]
  },
  {
   "cell_type": "code",
   "execution_count": 93,
   "metadata": {
    "collapsed": true
   },
   "outputs": [],
   "source": [
    "dna = \"ATAATTAACGGAGCTTATTA\"\n",
    "if re.search(r\"G(A|T)(A|T)G(A|T|G|C)\", dna):\n",
    "    print(\"restriction site found!\")"
   ]
  },
  {
   "cell_type": "code",
   "execution_count": 20,
   "metadata": {
    "collapsed": false
   },
   "outputs": [],
   "source": [
    "#defining choices\n",
    "move = ['rock', 'paper', 'scissors']\n",
    "#defining the computer\n",
    "comp = random.choice(move)\n",
    "#my attempt at creating the game function\n",
    "def rps(player, comp):\n",
    "    while player == False:\n",
    "        if player == comp:\n",
    "            print(\"you picked\", player, \"computer picked\", comp, \"this is a tie!\")\n",
    "        elif player == \"paper\":\n",
    "            if computer == \"rock\":\n",
    "                print('you picked', player, 'computer picked', comp, \"+1 for you\")\n",
    "            else:\n",
    "                print(\"you picked\", player, \"computer picked\", comp, \"+1 for computer\")\n",
    "        elif player == \"rock\":\n",
    "            if computer == \"scissors\":\n",
    "                print('you picked', player, 'computer picked', comp, \"+1 for you\")\n",
    "            else:\n",
    "                print(\"you picked\", player, \"computer picked\", comp, \"+1 for computer\")\n",
    "        elif player == \"scissors\":\n",
    "            if computer == \"paper\":\n",
    "                print('you picked', player, 'computer picked', comp, \"+1 for you\")\n",
    "            else:\n",
    "                print(\"you picked\", player, \"computer picked\", comp, \"+1 for computer\")\n",
    "        else:\n",
    "            print('not a valid input, please choose again')\n",
    "\n",
    "rps(\"rock\", comp)\n",
    "#a little stuck on how to go about inserting the inputs for player and computer"
   ]
  },
  {
   "cell_type": "code",
   "execution_count": null,
   "metadata": {
    "collapsed": true
   },
   "outputs": [],
   "source": []
  }
 ],
 "metadata": {
  "anaconda-cloud": {},
  "kernelspec": {
   "display_name": "Python [default]",
   "language": "python",
   "name": "python3"
  },
  "language_info": {
   "codemirror_mode": {
    "name": "ipython",
    "version": 3
   },
   "file_extension": ".py",
   "mimetype": "text/x-python",
   "name": "python",
   "nbconvert_exporter": "python",
   "pygments_lexer": "ipython3",
   "version": "3.5.2"
  }
 },
 "nbformat": 4,
 "nbformat_minor": 2
}
